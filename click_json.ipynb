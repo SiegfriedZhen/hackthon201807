{
 "cells": [
  {
   "cell_type": "code",
   "execution_count": 1,
   "metadata": {
    "collapsed": true
   },
   "outputs": [],
   "source": [
    "import pandas as pd\n",
    "import gc"
   ]
  },
  {
   "cell_type": "code",
   "execution_count": 2,
   "metadata": {
    "collapsed": true
   },
   "outputs": [],
   "source": [
    "file_path_action = r'C:\\Users\\snowball\\Desktop\\py_workspace\\hack\\train-click.json'"
   ]
  },
  {
   "cell_type": "code",
   "execution_count": 3,
   "metadata": {},
   "outputs": [
    {
     "name": "stdout",
     "output_type": "stream",
     "text": [
      "1000  size finished!\n"
     ]
    }
   ],
   "source": [
    "raw = []\n",
    "ct = 0\n",
    "\n",
    "# 目前預設讀100萬筆, 實際整體資料大於3000萬, 請依記憶體量力而為\n",
    "limit_cnt =  1000\n",
    "\n",
    "with open(file_path_action) as f:\n",
    "    for line in f:\n",
    "        raw.append(line)\n",
    "        ct = ct + 1\n",
    "        \n",
    "        if ct == limit_cnt:\n",
    "            print(len(raw), ' size finished!')\n",
    "            break"
   ]
  },
  {
   "cell_type": "code",
   "execution_count": 4,
   "metadata": {},
   "outputs": [],
   "source": [
    "output = ','.join(raw)\n",
    "\n",
    "\n",
    "# In[5]:\n",
    "\n",
    "del raw\n",
    "gc.collect()\n",
    "\n",
    "\n",
    "# In[6]:\n",
    "\n",
    "output = output.replace('\\n', '')\n",
    "\n",
    "\n",
    "# In[7]:\n",
    "\n",
    "gc.collect()\n",
    "\n",
    "\n",
    "# In[8]:\n",
    "\n",
    "output = pd.read_json('[' + output + ']')"
   ]
  },
  {
   "cell_type": "code",
   "execution_count": 6,
   "metadata": {
    "collapsed": true
   },
   "outputs": [],
   "source": [
    "def train_click_preprocess(train_click_df):\n",
    "    # 取得是否點擊的 target\n",
    "    def get_target(train_click_df):\n",
    "        df = train_click_df.copy()\n",
    "        jobno_order_lists = []\n",
    "        dfs = [] \n",
    "        joblist = df['joblist'].tolist()\n",
    "        jobno = df['jobno'].tolist()\n",
    "        for i in range(len(jobno)):\n",
    "            df = pd.DataFrame(joblist[i], columns=['all_jobno'])\n",
    "            df['index'] = i \n",
    "            df['jobno'] = jobno[i]\n",
    "            df['target'] = (df['jobno'] == df['all_jobno']).astype(int)\n",
    "            dfs.append(df)\n",
    "        del df\n",
    "        gc.collect()\n",
    "        target_df = pd.concat(dfs).reset_index(drop=True).drop('jobno', axis=1)\n",
    "        target_df.columns = ['jobno', 'index', 'target']\n",
    "        target_df = target_df.merge(train_click_df.reset_index().drop('jobno', axis=1), on='index', how='left')\n",
    "        return target_df\n",
    "\n",
    "    # 把 query string 拆開轉成 dataframe\n",
    "    def queryProcessor(querystring):\n",
    "        qs = querystring.split('&')\n",
    "        d = {}\n",
    "        for q in qs:\n",
    "            d[q.split('=')[0]] =  q.split('=')[1]\n",
    "        df = pd.DataFrame([d.values()], columns=d.keys())\n",
    "        return df\n",
    "    \n",
    "    # 取得工作清單數量、排序\n",
    "    def jobno_order(train_click_df):\n",
    "        df = train_click_df.copy()\n",
    "        jobno_order_lists = []\n",
    "        joblist = df['joblist'].tolist()\n",
    "        jobno = df['jobno'].tolist()\n",
    "        for i in range(len(jobno)):\n",
    "            jobno_order_list = []\n",
    "            jobno_order_list.append(len(joblist[i]))\n",
    "            jobno_order_list.append(joblist[i].index(jobno[i]))\n",
    "            jobno_order_lists.append(jobno_order_list)\n",
    "        df = pd.concat([df, pd.DataFrame(jobno_order_lists, columns=['joblist_count', 'job_order_in_list']).apply(pd.to_numeric,downcast='unsigned')], axis=1)\n",
    "        return df\n",
    "    # 處理多選欄位變成 dummies variable \n",
    "    def multiple_values_to_dummies(df, colName):\n",
    "        try:\n",
    "            return pd.get_dummies(df[colName].str.split('%2C') \\\n",
    "                .apply(lambda x: pd.Series(x)).stack() \\\n",
    "                .reset_index(level=1, drop=True).to_frame(colName)) \\\n",
    "                .reset_index().groupby('index').sum().apply(pd.to_numeric,downcast='unsigned') \\\n",
    "                .join(df.drop(colName, axis=1), how='left') \\\n",
    "                .reset_index(drop=True)\n",
    "        except:\n",
    "            return df\n",
    "    \n",
    "    train_click_df = train_click_df.pipe(get_target)\n",
    "    query_df = pd.concat(train_click_df['querystring'].apply(queryProcessor).tolist()).reset_index(drop=True)\n",
    "    train_click_df = pd.concat([query_df, train_click_df.drop('querystring', axis=1)], axis=1)\n",
    "    # order 可能做不出來\n",
    "    # 工作清單數量都是 20 筆，可能沒用\n",
    "    train_click_df = train_click_df.pipe(jobno_order)\n",
    "    train_click_df['job_order_in_list'] = train_click_df['job_order_in_list'] + 1\n",
    "    \n",
    "    train_click_df.fillna('null', inplace=True)\n",
    "    for col in train_click_df[query_df.columns]:\n",
    "        train_click_df = multiple_values_to_dummies(train_click_df, col)\n",
    "    del query_df\n",
    "    gc.collect()\n",
    "    train_click_df['target'] = train_click_df['target'].apply(pd.to_numeric,downcast='unsigned')\n",
    "    return train_click_df"
   ]
  },
  {
   "cell_type": "code",
   "execution_count": 7,
   "metadata": {},
   "outputs": [],
   "source": [
    "rs = train_click_preprocess(output)"
   ]
  },
  {
   "cell_type": "code",
   "execution_count": 9,
   "metadata": {},
   "outputs": [
    {
     "data": {
      "text/plain": [
       "(20000, 1105)"
      ]
     },
     "execution_count": 9,
     "metadata": {},
     "output_type": "execute_result"
    }
   ],
   "source": [
    "rs.shape"
   ]
  },
  {
   "cell_type": "code",
   "execution_count": null,
   "metadata": {
    "collapsed": true
   },
   "outputs": [],
   "source": []
  },
  {
   "cell_type": "code",
   "execution_count": null,
   "metadata": {
    "collapsed": true
   },
   "outputs": [],
   "source": []
  }
 ],
 "metadata": {
  "kernelspec": {
   "display_name": "Python 3",
   "language": "python",
   "name": "python3"
  },
  "language_info": {
   "codemirror_mode": {
    "name": "ipython",
    "version": 3
   },
   "file_extension": ".py",
   "mimetype": "text/x-python",
   "name": "python",
   "nbconvert_exporter": "python",
   "pygments_lexer": "ipython3",
   "version": "3.6.3"
  }
 },
 "nbformat": 4,
 "nbformat_minor": 2
}
